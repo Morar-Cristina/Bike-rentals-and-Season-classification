{
 "cells": [
  {
   "cell_type": "code",
   "execution_count": 1278,
   "metadata": {},
   "outputs": [],
   "source": [
    "import pandas as pd\n",
    "import numpy as np\n",
    "from sklearn.model_selection import train_test_split\n",
    "from sklearn.preprocessing import PolynomialFeatures\n",
    "from sklearn.linear_model import LinearRegression\n",
    "from sklearn.metrics import mean_squared_error, r2_score, mean_absolute_error\n",
    "import matplotlib.pyplot as plt\n",
    "import seaborn as sns\n",
    "import scipy.stats as stats\n",
    "from sklearn.model_selection import cross_val_score\n",
    "from sklearn.pipeline import make_pipeline\n",
    "from sklearn.model_selection import KFold\n",
    "from sklearn.discriminant_analysis import StandardScaler\n",
    "from tabulate import tabulate"
   ]
  },
  {
   "cell_type": "code",
   "execution_count": 1279,
   "metadata": {},
   "outputs": [],
   "source": [
    "# # Load the dataset\n",
    "data = pd.read_csv(\"day.csv\")\n",
    "\n",
    "# Convert 'dteday' to datetime if not already\n",
    "data['dteday'] = pd.to_datetime(data['dteday'], errors='coerce')\n",
    "\n",
    "# Convert 'dteday' to numeric (e.g., days since the minimum date in the dataset)\n",
    "data['dteday_numeric'] = (data['dteday'] - data['dteday'].min()).dt.days\n",
    "\n",
    "# Drop the original datetime column if needed\n",
    "data = data.drop(columns=['dteday'])\n",
    "\n",
    "# Drop the fields \n",
    "# -instant (an identifier).\n",
    "# -holiday (low correlation with cnt).\n",
    "# -weekday (low correlation with cnt).\n",
    "# -atemp or temp (high correlation).\n",
    "# -windspeed (low correlation with cnt).\n",
    "columns_to_exclude = ['instant', 'holiday', 'weekday', 'atemp', 'windspeed']\n",
    "\n",
    "X = data.drop(columns=columns_to_exclude + ['cnt'], axis=1)  \n",
    "y = data['cnt']"
   ]
  },
  {
   "cell_type": "markdown",
   "metadata": {},
   "source": [
    "## BUILT-IN"
   ]
  },
  {
   "cell_type": "markdown",
   "metadata": {},
   "source": [
    "### Train the model"
   ]
  },
  {
   "cell_type": "code",
   "execution_count": 1280,
   "metadata": {},
   "outputs": [],
   "source": [
    "# Split the dataset into training and testing sets\n",
    "X_train, X_test, y_train, y_test = train_test_split(X, y, test_size=0.2, random_state=42)\n",
    "\n",
    "# Apply Polynomial Features\n",
    "poly = PolynomialFeatures(degree=4) \n",
    "X_train_poly = poly.fit_transform(X_train)\n",
    "X_test_poly = poly.transform(X_test)\n",
    "\n",
    "# Train the model\n",
    "model = LinearRegression()\n",
    "model.fit(X_train_poly, y_train)\n",
    "\n",
    "# Predict\n",
    "y_train_pred = model.predict(X_train_poly)\n",
    "y_test_pred = model.predict(X_test_poly)"
   ]
  },
  {
   "cell_type": "markdown",
   "metadata": {},
   "source": [
    "### Evaluate"
   ]
  },
  {
   "cell_type": "code",
   "execution_count": 1281,
   "metadata": {},
   "outputs": [
    {
     "name": "stdout",
     "output_type": "stream",
     "text": [
      "Range of cnt: 8692 (min: 22, max: 8714)\n",
      "Evaluation Metrics for Polynomial Regression:\n",
      "Train MAE: 1.7578659045617526\n",
      "Test MAE: 11.97159291292556\n",
      "Train RMSE: 2.307861189461002\n",
      "Test RMSE: 40.733455098326374\n",
      "Train NRMSE: 0.0002786262452566705\n",
      "Test NRMSE: 0.005001038072231599\n",
      "Train R²: 0.9999985470112069\n",
      "Test R²: 0.9995862186855282\n"
     ]
    }
   ],
   "source": [
    "# MAE (Mean Absolute Error)\n",
    "train_mae = mean_absolute_error(y_train, y_train_pred)\n",
    "test_mae = mean_absolute_error(y_test, y_test_pred)\n",
    "\n",
    "# RMSE (Root Mean Squared Error)\n",
    "train_rmse = np.sqrt(mean_squared_error(y_train, y_train_pred))\n",
    "test_rmse = np.sqrt(mean_squared_error(y_test, y_test_pred))\n",
    "\n",
    "# NRMSE (Normalized RMSE): RMSE divided by the range of target variable\n",
    "train_nrmse = train_rmse / (y_train.max() - y_train.min())\n",
    "test_nrmse = test_rmse / (y_test.max() - y_test.min())\n",
    "\n",
    "# R² (Coefficient of Determination)\n",
    "train_r2 = r2_score(y_train, y_train_pred)\n",
    "test_r2 = r2_score(y_test, y_test_pred)\n",
    "\n",
    "# Calculate the range of 'cnt'\n",
    "cnt_min = y.min()  # Minimum value of cnt\n",
    "cnt_max = y.max()  # Maximum value of cnt\n",
    "cnt_range = cnt_max - cnt_min\n",
    "\n",
    "print(f\"Range of cnt: {cnt_range} (min: {cnt_min}, max: {cnt_max})\")\n",
    "\n",
    "# Print the metrics\n",
    "print(\"Evaluation Metrics for Polynomial Regression:\")\n",
    "print(f\"Train MAE: {train_mae}\")\n",
    "print(f\"Test MAE: {test_mae}\")\n",
    "print(f\"Train RMSE: {train_rmse}\")\n",
    "print(f\"Test RMSE: {test_rmse}\")\n",
    "print(f\"Train NRMSE: {train_nrmse}\")\n",
    "print(f\"Test NRMSE: {test_nrmse}\")\n",
    "print(f\"Train R²: {train_r2}\")\n",
    "print(f\"Test R²: {test_r2}\")"
   ]
  },
  {
   "cell_type": "markdown",
   "metadata": {},
   "source": [
    "### Evaluation of Metrics\n",
    "\n",
    "##### Range of `cnt`:\n",
    "- **Range**: 8692 (min: 22, max: 8714)\n",
    "- The large range means that the MAE and RMSE values should be interpreted relative to this scale.\n",
    "\n",
    "##### Train/Test MAE:\n",
    "- **Train MAE**: 1.76  \n",
    "- **Test MAE**: 11.97  \n",
    "    - These are very small compared to the range of `cnt`. For example, the Test MAE (11.97) represents an average error of only about **0.14%** relative to the range:  \n",
    "    \\[\n",
    "    \\text{Test MAE relative to range} = \\frac{11.97}{8692} \\approx 0.14\\%\n",
    "    \\]\n",
    "\n",
    "##### Train/Test RMSE:\n",
    "- **Train RMSE**: 2.31  \n",
    "- **Test RMSE**: 40.73  \n",
    "    - The RMSE is still very small compared to the target range.  \n",
    "    - Test RMSE is higher than the training RMSE, but this is expected and indicates the model is slightly more accurate on the training set (a common occurrence).\n",
    "\n",
    "##### Train/Test NRMSE:\n",
    "- **Train NRMSE**: 0.00028  \n",
    "- **Test NRMSE**: 0.005  \n",
    "    - Normalized RMSE is less than **1%** of the range for both sets, indicating excellent performance.\n",
    "\n",
    "##### Train/Test \\(R^2\\):\n",
    "- **Train \\(R^2\\)**: 0.9999985  \n",
    "- **Test \\(R^2\\)**: 0.999586  \n",
    "    - Both are very close to **1.0**, indicating the model explains nearly all of the variance in the target variable.  \n",
    "    - The slight drop in Test \\(R^2\\) compared to Train \\(R^2\\) is acceptable and suggests the model generalizes well.\n"
   ]
  },
  {
   "cell_type": "markdown",
   "metadata": {},
   "source": [
    "Cross-Validation"
   ]
  },
  {
   "cell_type": "code",
   "execution_count": 1282,
   "metadata": {},
   "outputs": [
    {
     "name": "stdout",
     "output_type": "stream",
     "text": [
      "Cross-Validation Results:\n",
      "MAE Scores for each fold: [8.75094283e-05 1.07570790e-05 1.97343448e-05 1.94398135e-05\n",
      " 7.15348876e-06]\n",
      "Mean MAE: 2.891883086527614e-05\n",
      "Standard Deviation of MAE: 2.9700653227044237e-05\n"
     ]
    }
   ],
   "source": [
    "# Create a pipeline for polynomial features and linear regression\n",
    "pipeline = make_pipeline(PolynomialFeatures(degree=3), LinearRegression())\n",
    "\n",
    "# Perform cross-validation\n",
    "cv_scores = cross_val_score(pipeline, X, y, cv=5, scoring='neg_mean_absolute_error')  # 5-fold CV\n",
    "\n",
    "# Convert scores to positive values (since they're negative for MAE)\n",
    "cv_scores = -cv_scores\n",
    "\n",
    "print(\"Cross-Validation Results:\")\n",
    "print(f\"MAE Scores for each fold: {cv_scores}\")\n",
    "print(f\"Mean MAE: {cv_scores.mean()}\")\n",
    "print(f\"Standard Deviation of MAE: {cv_scores.std()}\")"
   ]
  },
  {
   "cell_type": "code",
   "execution_count": 1283,
   "metadata": {},
   "outputs": [],
   "source": [
    "# Calculate residuals for training and test sets\n",
    "train_residuals = y_train - y_train_pred\n",
    "test_residuals = y_test - y_test_pred"
   ]
  },
  {
   "cell_type": "markdown",
   "metadata": {},
   "source": [
    "Residual Standard Deviation: Measures the spread of errors. Smaller standard deviations indicate more consistent predictions."
   ]
  },
  {
   "cell_type": "code",
   "execution_count": 1284,
   "metadata": {},
   "outputs": [
    {
     "name": "stdout",
     "output_type": "stream",
     "text": [
      "Train Residual Standard Deviation: 2.307861189461002\n",
      "Test Residual Standard Deviation: 40.438373019372094\n"
     ]
    }
   ],
   "source": [
    "# Standard deviation of residuals\n",
    "train_std = np.std(train_residuals)\n",
    "test_std = np.std(test_residuals)\n",
    "\n",
    "print(f\"Train Residual Standard Deviation: {train_std}\")\n",
    "print(f\"Test Residual Standard Deviation: {test_std}\")"
   ]
  },
  {
   "cell_type": "markdown",
   "metadata": {},
   "source": [
    "Confidence Intervals: Indicate the range within which metrics like MAE are expected to fall with 95% confidence. Smaller intervals signify higher confidence in the metrics."
   ]
  },
  {
   "cell_type": "code",
   "execution_count": 1285,
   "metadata": {},
   "outputs": [
    {
     "name": "stdout",
     "output_type": "stream",
     "text": [
      "Train MAE Confidence Interval: (np.float64(1.6362291145029089), np.float64(1.8795026946205964))\n",
      "Test MAE Confidence Interval: (np.float64(5.603328569750606), np.float64(18.339857256100515))\n"
     ]
    }
   ],
   "source": [
    "# Function to calculate confidence intervals\n",
    "def confidence_interval(data, confidence=0.95):\n",
    "    mean = np.mean(data)\n",
    "    sem = stats.sem(data)  # Standard error of the mean\n",
    "    margin = sem * stats.t.ppf((1 + confidence) / 2., len(data) - 1)\n",
    "    return mean - margin, mean + margin\n",
    "\n",
    "# Confidence intervals for MAE\n",
    "train_mae_ci = confidence_interval(np.abs(train_residuals))\n",
    "test_mae_ci = confidence_interval(np.abs(test_residuals))\n",
    "\n",
    "print(f\"Train MAE Confidence Interval: {train_mae_ci}\")\n",
    "print(f\"Test MAE Confidence Interval: {test_mae_ci}\")"
   ]
  },
  {
   "cell_type": "markdown",
   "metadata": {},
   "source": [
    "Residual Distribution: Should ideally be symmetric and centered around 0, indicating no systematic bias in predictions."
   ]
  },
  {
   "cell_type": "code",
   "execution_count": 1286,
   "metadata": {},
   "outputs": [
    {
     "data": {
      "image/png": "[encoded data removed]",
      "text/plain": [
       "<Figure size 1200x600 with 1 Axes>"
      ]
     },
     "metadata": {},
     "output_type": "display_data"
    }
   ],
   "source": [
    "# Plot residual distributions\n",
    "plt.figure(figsize=(12, 6))\n",
    "\n",
    "sns.histplot(train_residuals, kde=True, color=\"blue\", label=\"Train Residuals\")\n",
    "sns.histplot(test_residuals, kde=True, color=\"orange\", label=\"Test Residuals\")\n",
    "\n",
    "plt.title(\"Residuals Distribution\")\n",
    "plt.xlabel(\"Residuals\")\n",
    "plt.ylabel(\"Frequency\")\n",
    "plt.legend()\n",
    "plt.show()"
   ]
  },
  {
   "cell_type": "markdown",
   "metadata": {},
   "source": [
    "Summary Table"
   ]
  },
  {
   "cell_type": "code",
   "execution_count": 1287,
   "metadata": {},
   "outputs": [
    {
     "name": "stdout",
     "output_type": "stream",
     "text": [
      "+---+--------+--------------------+-------------------+-------------------+--------------------+------------------------------------------------------------------+-----------------------------------------------------------------+\n",
      "|   | Metric |    Train Value     |    Test Value     |   Train Std Dev   |    Test Std Dev    |                             Train CI                             |                             Test CI                             |\n",
      "+---+--------+--------------------+-------------------+-------------------+--------------------+------------------------------------------------------------------+-----------------------------------------------------------------+\n",
      "| 0 |  MAE   | 1.7578659045617526 | 11.97159291292556 | 2.307861189461002 | 40.438373019372094 | (np.float64(1.6362291145029089), np.float64(1.8795026946205964)) | (np.float64(5.603328569750606), np.float64(18.339857256100515)) |\n",
      "+---+--------+--------------------+-------------------+-------------------+--------------------+------------------------------------------------------------------+-----------------------------------------------------------------+\n"
     ]
    }
   ],
   "source": [
    "# Create a summary dataframe specifically for MAE\n",
    "mae_summary = pd.DataFrame({\n",
    "    \"Metric\": [\"MAE\"],\n",
    "    \"Train Value\": [train_mae],\n",
    "    \"Test Value\": [test_mae],\n",
    "    \"Train Std Dev\": [train_std],\n",
    "    \"Test Std Dev\": [test_std],\n",
    "    \"Train CI\": [train_mae_ci],\n",
    "    \"Test CI\": [test_mae_ci]\n",
    "})\n",
    "\n",
    "print(tabulate(mae_summary, headers='keys', tablefmt='pretty'))"
   ]
  },
  {
   "cell_type": "markdown",
   "metadata": {},
   "source": [
    "Feature Importance"
   ]
  },
  {
   "cell_type": "code",
   "execution_count": 1288,
   "metadata": {},
   "outputs": [
    {
     "name": "stdout",
     "output_type": "stream",
     "text": [
      "Feature Importance:\n",
      "                         Feature  Coefficient  Importance\n",
      "9                     registered     0.822675    0.822675\n",
      "8                         casual     0.748924    0.748924\n",
      "49         weathersit registered     0.345516    0.345516\n",
      "48             weathersit casual     0.340621    0.340621\n",
      "234      weathersit^2 registered    -0.184051    0.184051\n",
      "233          weathersit^2 casual    -0.124986    0.124986\n",
      "57                    hum casual     0.071565    0.071565\n",
      "184       mnth weathersit casual    -0.059417    0.059417\n",
      "35                   mnth casual     0.045981    0.045981\n",
      "235  weathersit^2 dteday_numeric    -0.045597    0.045597\n"
     ]
    }
   ],
   "source": [
    "# Get the coefficients from the trained linear regression model\n",
    "coefficients = model.coef_\n",
    "\n",
    "# Get the feature names after applying PolynomialFeatures\n",
    "feature_names = poly.get_feature_names_out(X.columns)\n",
    "\n",
    "# Combine feature names and coefficients\n",
    "feature_importance = pd.DataFrame({\n",
    "    'Feature': feature_names,\n",
    "    'Coefficient': coefficients\n",
    "})\n",
    "\n",
    "# Sort by absolute value of coefficients\n",
    "feature_importance['Importance'] = feature_importance['Coefficient'].abs()\n",
    "feature_importance = feature_importance.sort_values(by='Importance', ascending=False)\n",
    "\n",
    "print(\"Feature Importance:\")\n",
    "print(feature_importance.head(10))  # Display top 10 features by importance\n"
   ]
  },
  {
   "cell_type": "markdown",
   "metadata": {},
   "source": [
    "## SCRATCH"
   ]
  },
  {
   "cell_type": "markdown",
   "metadata": {},
   "source": [
    "#### Steps to Implement Polynomial Regression from Scratch\n",
    "\n",
    "##### 1. Generate Polynomial Features\n",
    "- Manually create polynomial terms (e.g., $x^2, x^3$) and interaction terms for the input features.\n",
    "- Example:\n",
    "  - For a single feature $x$, create new features like $[1, x, x^2, x^3]$.\n",
    "  - For multiple features $x_1$ and $x_2$, include interaction terms like $x_1 \\cdot x_2, x_1^2, x_2^2$.\n",
    "\n",
    "\n",
    "##### 2. Make Predictions\n",
    "- Use the fitted coefficients $\\beta$ to calculate predictions for the target variable:\n",
    "  $$\n",
    "  \\hat{y} = X \\beta\n",
    "  $$\n",
    "  Where:\n",
    "  - $\\hat{y}$ is the vector of predicted values.\n",
    "  - $X$ is the matrix of polynomial features.\n",
    "  - $\\beta$ is the vector of estimated coefficients.\n",
    "\n"
   ]
  },
  {
   "cell_type": "code",
   "execution_count": 1289,
   "metadata": {},
   "outputs": [],
   "source": [
    "# Polynomial feature transformation\n",
    "from itertools import combinations_with_replacement\n",
    "\n",
    "\n",
    "def polynomial_features(X : np.ndarray, degree: int):\n",
    "    n_samples, n_features = X.shape\n",
    "    # Create an array to store polynomial features\n",
    "    X_poly = np.ones((n_samples, 1))  # Start with the bias (intercept)\n",
    "    \n",
    "    # Generate polynomial features\n",
    "    for d in range(1, degree + 1):\n",
    "        for combo in combinations_with_replacement(range(n_features), d):\n",
    "            new_feature = np.prod(X[:, combo], axis=1).reshape(-1, 1)\n",
    "            X_poly = np.hstack((X_poly, new_feature))\n",
    "    \n",
    "    return X_poly\n",
    "\n",
    "def predict(X, theta):\n",
    "    return X @ theta"
   ]
  },
  {
   "cell_type": "markdown",
   "metadata": {},
   "source": [
    "### Evaluation Metrics"
   ]
  },
  {
   "cell_type": "markdown",
   "metadata": {},
   "source": [
    "\n",
    "#### 1. Mean Absolute Error (MAE)\n",
    "**Formula:**\n",
    "$$\n",
    "MAE = \\frac{1}{n} \\sum_{i=1}^{n} |y_i - \\hat{y}_i|\n",
    "$$\n",
    "\n",
    "**Description:**\n",
    "- Measures the average magnitude of prediction errors, ignoring their direction.\n",
    "- Provides a simple interpretation: the average absolute difference between actual values (`yᵢ`) and predicted values (`ŷᵢ`).\n"
   ]
  },
  {
   "cell_type": "code",
   "execution_count": 1290,
   "metadata": {},
   "outputs": [],
   "source": [
    "def mean_absolute_error(y_true, y_pred):\n",
    "    n = len(y_true)\n",
    "    mae = sum(abs(y_true - y_pred)) / n\n",
    "    return mae"
   ]
  },
  {
   "cell_type": "markdown",
   "metadata": {},
   "source": [
    "#### 2. Mean Squared Error (MSE)\n",
    "**Formula:**\n",
    "$$\n",
    "MSE = \\frac{1}{n} \\sum_{i=1}^{n} (y_i - \\hat{y}_i)^2\n",
    "$$\n",
    "\n",
    "**Description:**\n",
    "- Represents the average of the squared differences between actual and predicted values.\n",
    "- Penalizes larger errors more heavily than MAE due to squaring.\n"
   ]
  },
  {
   "cell_type": "code",
   "execution_count": 1291,
   "metadata": {},
   "outputs": [],
   "source": [
    "def mean_squared_error(y_true, y_pred):\n",
    "    n = len(y_true)\n",
    "    mse = sum((y_true - y_pred)**2) / n\n",
    "    return mse"
   ]
  },
  {
   "cell_type": "markdown",
   "metadata": {},
   "source": [
    "#### 3. Root Mean Squared Error (RMSE)\n",
    "**Formula:**\n",
    "$$\n",
    "RMSE = \\sqrt{\\frac{1}{n} \\sum_{i=1}^{n} (y_i - \\hat{y}_i)^2}\n",
    "$$\n",
    "\n",
    "**Description:**\n",
    "- The square root of MSE, which keeps the units of the error in the same scale as the target variable.\n",
    "- Widely used as it is sensitive to large errors and provides interpretable results.\n"
   ]
  },
  {
   "cell_type": "code",
   "execution_count": 1292,
   "metadata": {},
   "outputs": [],
   "source": [
    "def root_mean_squared_error(y_true, y_pred):\n",
    "    mse = mean_squared_error(y_true, y_pred)\n",
    "    rmse = mse**0.5\n",
    "    return rmse"
   ]
  },
  {
   "cell_type": "markdown",
   "metadata": {},
   "source": [
    "#### 4. Normalized Root Mean Squared Error (NRMSE)\n",
    "**Formula:**\n",
    "$$\n",
    "NRMSE = \\frac{RMSE}{y_{\\text{max}} - y_{\\text{min}}}\n",
    "$$\n",
    "\n",
    "**Description:**\n",
    "- Normalizes RMSE to the range of the target variable.\n",
    "- Useful for comparing errors across datasets with different scales.\n"
   ]
  },
  {
   "cell_type": "code",
   "execution_count": 1293,
   "metadata": {},
   "outputs": [],
   "source": [
    "def normalized_rmse(y_true, y_pred):\n",
    "    rmse = root_mean_squared_error(y_true, y_pred)\n",
    "    nrmse = rmse / (y_true.max() - y_true.min())\n",
    "    return nrmse"
   ]
  },
  {
   "cell_type": "markdown",
   "metadata": {},
   "source": [
    "#### 5. Coefficient of Determination (R²)\n",
    "**Formula:**\n",
    "$$\n",
    "R^2 = 1 - \\frac{\\sum_{i=1}^n (y_i - \\hat{y}_i)^2}{\\sum_{i=1}^n (y_i - \\bar{y})^2}\n",
    "$$\n",
    "\n",
    "**Description:**\n",
    "- Measures the proportion of variance in the target variable that is explained by the model.\n",
    "- Ranges from 0 to 1, where higher values indicate a better fit. A value of 1 indicates perfect predictions."
   ]
  },
  {
   "cell_type": "code",
   "execution_count": 1294,
   "metadata": {},
   "outputs": [],
   "source": [
    "def r2_score(y_true, y_pred):\n",
    "    y_mean = sum(y_true) / len(y_true)\n",
    "    ss_total = sum((y_true - y_mean)**2)\n",
    "    ss_residual = sum((y_true - y_pred)**2)\n",
    "    r2 = 1 - (ss_residual / ss_total)\n",
    "    return r2"
   ]
  },
  {
   "cell_type": "markdown",
   "metadata": {},
   "source": [
    "### Gradient Descent "
   ]
  },
  {
   "cell_type": "markdown",
   "metadata": {},
   "source": [
    "\n",
    "#### 1. Linear Model Hypothesis:\n",
    "The hypothesis for linear regression is represented as:\n",
    "\n",
    "$\\hat{y} = X\\theta$\n",
    "\n",
    "In the function, this is computed using:\n",
    "\n",
    "`X @ theta`\n",
    "\n",
    "This calculates the predicted values ($\\hat{y}$) based on the current parameters ($\\theta$).\n",
    "\n",
    "\n",
    "#### 2. Error Calculation:\n",
    "The residual error between the predictions ($\\hat{y}$) and actual target values ($y$) is:\n",
    "\n",
    "$\\text{Error} = \\hat{y} - y = X\\theta - y$\n",
    "\n",
    "In the function, this is implemented as:\n",
    "\n",
    "`X @ theta - y`\n",
    "\n",
    "\n",
    "#### 3. Gradient Computation:\n",
    "To minimize the error, we compute the gradient of the cost function (Mean Squared Error) with respect to $\\theta$. The gradient is given by:\n",
    "\n",
    "$\\nabla_\\theta J = \\frac{2}{n} X^\\top (X\\theta - y)$\n",
    "\n",
    "In the function, this is calculated as:\n",
    "\n",
    "`gradients = (2 / n_samples) * X.T @ (X @ theta - y)`\n",
    "\n",
    "\n",
    "#### 4. Parameter Update (Gradient Descent):\n",
    "Using the gradients, the parameters ($\\theta$) are updated iteratively to minimize the cost:\n",
    "\n",
    "$\\theta = \\theta - \\alpha \\nabla_\\theta J$\n",
    "\n",
    "In the function, this is done as:\n",
    "\n",
    "`theta -= learning_rate * gradients`\n"
   ]
  },
  {
   "cell_type": "code",
   "execution_count": 1295,
   "metadata": {},
   "outputs": [],
   "source": [
    "# Gradient Descent Implementation for Linear Regression\n",
    "def gradient_descent(X, y, learning_rate=0.01, iterations=1000, lambda_reg=0.01):\n",
    "    n_samples, n_features = X.shape\n",
    "    limit = np.sqrt(6 / (n_features + 1))  # For linear regression, +1 is for the bias term\n",
    "    theta = np.random.uniform(-limit, limit, n_features)\n",
    "    cost_history = []\n",
    "\n",
    "    for _ in range(iterations):\n",
    "        predictions = X @ theta\n",
    "        gradients = (2 / n_samples) * X.T @ (predictions - y) + 2 * lambda_reg * theta\n",
    "        theta -= learning_rate * gradients\n",
    "        cost = (1 / n_samples) * np.sum((predictions - y) ** 2) + lambda_reg * np.sum(theta[1:] ** 2)\n",
    "        cost_history.append(cost)\n",
    "\n",
    "    return theta, cost_history\n"
   ]
  },
  {
   "cell_type": "markdown",
   "metadata": {},
   "source": [
    "### Train the model"
   ]
  },
  {
   "cell_type": "code",
   "execution_count": 1296,
   "metadata": {},
   "outputs": [],
   "source": [
    "lambda_reg=0.000001\n",
    "cv=5\n",
    "learning_rate=0.001\n",
    "degree=4\n",
    "iterations=100\n",
    "\n",
    "# Ensure NumPy format\n",
    "X = np.array(X)\n",
    "y = np.array(y)\n",
    "\n",
    "# Normalize features\n",
    "scaler = StandardScaler()\n",
    "X = scaler.fit_transform(X)\n",
    "y = scaler.fit_transform(y.reshape(-1, 1)).flatten()\n",
    "\n",
    "# Split the dataset into training and testing sets\n",
    "X_train, X_test, y_train, y_test = train_test_split(X, y, test_size=0.2, random_state=42)\n",
    "\n",
    "# Polynomial transformation\n",
    "X_train_poly = polynomial_features(X_train, degree)\n",
    "X_test_poly = polynomial_features(X_test, degree)\n",
    "\n",
    "model, _ = gradient_descent(X_train_poly, y_train, learning_rate, iterations, lambda_reg)\n",
    "y_train_pred = X_train_poly @ model\n",
    "y_test_pred = X_test_poly @ model"
   ]
  },
  {
   "cell_type": "code",
   "execution_count": 1297,
   "metadata": {},
   "outputs": [
    {
     "name": "stdout",
     "output_type": "stream",
     "text": [
      "Range of cnt: 4.489933909868531 (min: -2.3153992222786273, max: 2.174534687589904)\n",
      "Evaluation Metrics for Polynomial Regression:\n",
      "Train MAE: 0.376103260838443\n",
      "Test MAE: 0.4574397917089552\n",
      "Train RMSE: 0.5038228377703505\n",
      "Test RMSE: 0.7201500387025149\n",
      "Train NRMSE: 0.11775245152840029\n",
      "Test NRMSE: 0.17116370119337415\n",
      "Train R²: 0.7404875875759193\n",
      "Test R²: 0.5152990272887037\n"
     ]
    }
   ],
   "source": [
    "# MAE (Mean Absolute Error)\n",
    "train_mae = mean_absolute_error(y_train, y_train_pred)\n",
    "test_mae = mean_absolute_error(y_test, y_test_pred)\n",
    "\n",
    "# RMSE (Root Mean Squared Error)\n",
    "train_rmse = root_mean_squared_error(y_train, y_train_pred)\n",
    "test_rmse = root_mean_squared_error(y_test, y_test_pred)\n",
    "\n",
    "# NRMSE (Normalized RMSE): RMSE divided by the range of target variable\n",
    "train_nrmse = normalized_rmse(y_train, y_train_pred)\n",
    "test_nrmse = normalized_rmse(y_test, y_test_pred)\n",
    "\n",
    "# R² (Coefficient of Determination)\n",
    "train_r2 = r2_score(y_train, y_train_pred)\n",
    "test_r2 = r2_score(y_test, y_test_pred)\n",
    "\n",
    "# Calculate the range of 'cnt'\n",
    "cnt_min = y.min()  # Minimum value of cnt\n",
    "cnt_max = y.max()  # Maximum value of cnt\n",
    "cnt_range = cnt_max - cnt_min\n",
    "\n",
    "\n",
    "print(f\"Range of cnt: {cnt_range} (min: {cnt_min}, max: {cnt_max})\")\n",
    "\n",
    "# Print the metrics\n",
    "print(\"Evaluation Metrics for Polynomial Regression:\")\n",
    "print(f\"Train MAE: {train_mae}\")\n",
    "print(f\"Test MAE: {test_mae}\")\n",
    "print(f\"Train RMSE: {train_rmse}\")\n",
    "print(f\"Test RMSE: {test_rmse}\")\n",
    "print(f\"Train NRMSE: {train_nrmse}\")\n",
    "print(f\"Test NRMSE: {test_nrmse}\")\n",
    "print(f\"Train R²: {train_r2}\")\n",
    "print(f\"Test R²: {test_r2}\")"
   ]
  },
  {
   "cell_type": "markdown",
   "metadata": {},
   "source": [
    "### Cross-Validation"
   ]
  },
  {
   "cell_type": "code",
   "execution_count": 1298,
   "metadata": {},
   "outputs": [],
   "source": [
    "def cross_validate(X, y, degree, learning_rate=0.001, iterations=1000, cv=5, lambda_reg=0.001):\n",
    "\n",
    "    kf = KFold(n_splits=cv, shuffle=True, random_state=42)\n",
    "    cv_errors = []\n",
    "\n",
    "    # Ensure NumPy format\n",
    "    X = np.array(X)\n",
    "    y = np.array(y)\n",
    "\n",
    "    # Normalize features\n",
    "    scaler = StandardScaler()\n",
    "    X = scaler.fit_transform(X)\n",
    "    y = scaler.fit_transform(y.reshape(-1, 1)).flatten()\n",
    "\n",
    "    for train_index, test_index in kf.split(X):\n",
    "        X_train, X_test = X[train_index], X[test_index]\n",
    "        y_train, y_test = y[train_index], y[test_index]\n",
    "\n",
    "        # Polynomial transformation\n",
    "        X_train_poly = polynomial_features(X_train, degree)\n",
    "        X_test_poly = polynomial_features(X_test, degree)\n",
    "\n",
    "        # Train using regularized gradient descent\n",
    "        theta, _ = gradient_descent(X_train_poly, y_train, learning_rate, iterations, lambda_reg)\n",
    "\n",
    "        # Predict and calculate MSE\n",
    "        y_test_pred = X_test_poly @ theta\n",
    "        mse = mean_absolute_error(y_test, y_test_pred)\n",
    "        cv_errors.append(mse)\n",
    "\n",
    "    return np.mean(cv_errors), np.std(cv_errors)\n"
   ]
  },
  {
   "cell_type": "code",
   "execution_count": 1299,
   "metadata": {},
   "outputs": [
    {
     "name": "stdout",
     "output_type": "stream",
     "text": [
      "Mean Error: 0.49278241549900514, Std Dev: 0.07877240769926078\n"
     ]
    }
   ],
   "source": [
    "# Cross-validate\n",
    "mean_error, std_error = cross_validate(X, y, degree=degree, learning_rate=learning_rate, iterations=iterations, cv=cv, lambda_reg=lambda_reg)\n",
    "print(f\"Mean Error: {mean_error}, Std Dev: {std_error}\")\n"
   ]
  },
  {
   "cell_type": "code",
   "execution_count": 1300,
   "metadata": {},
   "outputs": [],
   "source": [
    "# Calculate residuals for training and test sets\n",
    "train_residuals = y_train - y_train_pred\n",
    "test_residuals = y_test - y_test_pred"
   ]
  },
  {
   "cell_type": "code",
   "execution_count": 1301,
   "metadata": {},
   "outputs": [
    {
     "name": "stdout",
     "output_type": "stream",
     "text": [
      "Train Residual Standard Deviation: 0.50381961289473\n",
      "Test Residual Standard Deviation: 0.7076633914634146\n"
     ]
    }
   ],
   "source": [
    "# Standard deviation of residuals\n",
    "train_std = np.std(train_residuals)\n",
    "test_std = np.std(test_residuals)\n",
    "\n",
    "print(f\"Train Residual Standard Deviation: {train_std}\")\n",
    "print(f\"Test Residual Standard Deviation: {test_std}\")"
   ]
  },
  {
   "cell_type": "code",
   "execution_count": 1302,
   "metadata": {},
   "outputs": [
    {
     "name": "stdout",
     "output_type": "stream",
     "text": [
      "Train MAE Confidence Interval: (np.float64(0.34883432495080746), np.float64(0.40337219672607905))\n",
      "Test MAE Confidence Interval: (np.float64(0.3664648041442182), np.float64(0.548414779273692))\n"
     ]
    }
   ],
   "source": [
    "# Function to calculate confidence intervals\n",
    "def confidence_interval(data, confidence=0.95):\n",
    "    mean = np.mean(data)\n",
    "    sem = stats.sem(data)  # Standard error of the mean\n",
    "    margin = sem * stats.t.ppf((1 + confidence) / 2., len(data) - 1)\n",
    "    return mean - margin, mean + margin\n",
    "\n",
    "# Confidence intervals for MAE\n",
    "train_mae_ci = confidence_interval(np.abs(train_residuals))\n",
    "test_mae_ci = confidence_interval(np.abs(test_residuals))\n",
    "\n",
    "print(f\"Train MAE Confidence Interval: {train_mae_ci}\")\n",
    "print(f\"Test MAE Confidence Interval: {test_mae_ci}\")"
   ]
  },
  {
   "cell_type": "code",
   "execution_count": 1303,
   "metadata": {},
   "outputs": [
    {
     "data": {
      "image/png": "[encoded data removed]",
      "text/plain": [
       "<Figure size 1200x600 with 1 Axes>"
      ]
     },
     "metadata": {},
     "output_type": "display_data"
    }
   ],
   "source": [
    "# Plot residual distributions\n",
    "plt.figure(figsize=(12, 6))\n",
    "\n",
    "sns.histplot(train_residuals, kde=True, color=\"blue\", label=\"Train Residuals\")\n",
    "sns.histplot(test_residuals, kde=True, color=\"orange\", label=\"Test Residuals\")\n",
    "\n",
    "plt.title(\"Residuals Distribution\")\n",
    "plt.xlabel(\"Residuals\")\n",
    "plt.ylabel(\"Frequency\")\n",
    "plt.legend()\n",
    "plt.show()"
   ]
  },
  {
   "cell_type": "code",
   "execution_count": 1304,
   "metadata": {},
   "outputs": [
    {
     "name": "stdout",
     "output_type": "stream",
     "text": [
      "+---+--------+-------------------+--------------------+------------------+--------------------+--------------------------------------------------------------------+-----------------------------------------------------------------+\n",
      "|   | Metric |    Train Value    |     Test Value     |  Train Std Dev   |    Test Std Dev    |                              Train CI                              |                             Test CI                             |\n",
      "+---+--------+-------------------+--------------------+------------------+--------------------+--------------------------------------------------------------------+-----------------------------------------------------------------+\n",
      "| 0 |  MAE   | 0.376103260838443 | 0.4574397917089552 | 0.50381961289473 | 0.7076633914634146 | (np.float64(0.34883432495080746), np.float64(0.40337219672607905)) | (np.float64(0.3664648041442182), np.float64(0.548414779273692)) |\n",
      "+---+--------+-------------------+--------------------+------------------+--------------------+--------------------------------------------------------------------+-----------------------------------------------------------------+\n"
     ]
    }
   ],
   "source": [
    "# Create a summary dataframe specifically for MAE\n",
    "mae_summary = pd.DataFrame({\n",
    "    \"Metric\": [\"MAE\"],\n",
    "    \"Train Value\": [train_mae],\n",
    "    \"Test Value\": [test_mae],\n",
    "    \"Train Std Dev\": [train_std],\n",
    "    \"Test Std Dev\": [test_std],\n",
    "    \"Train CI\": [train_mae_ci],\n",
    "    \"Test CI\": [test_mae_ci]\n",
    "})\n",
    "\n",
    "print(tabulate(mae_summary, headers='keys', tablefmt='pretty'))"
   ]
  }
 ],
 "metadata": {
  "kernelspec": {
   "display_name": ".venv",
   "language": "python",
   "name": "python3"
  },
  "language_info": {
   "codemirror_mode": {
    "name": "ipython",
    "version": 3
   },
   "file_extension": ".py",
   "mimetype": "text/x-python",
   "name": "python",
   "nbconvert_exporter": "python",
   "pygments_lexer": "ipython3",
   "version": "3.12.2"
  }
 },
 "nbformat": 4,
 "nbformat_minor": 2
}
